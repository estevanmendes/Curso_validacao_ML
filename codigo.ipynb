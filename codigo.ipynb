{
 "metadata": {
  "language_info": {
   "codemirror_mode": {
    "name": "ipython",
    "version": 3
   },
   "file_extension": ".py",
   "mimetype": "text/x-python",
   "name": "python",
   "nbconvert_exporter": "python",
   "pygments_lexer": "ipython3",
   "version": "3.7.9-final"
  },
  "orig_nbformat": 2,
  "kernelspec": {
   "name": "python3",
   "display_name": "Python 3.7.9 64-bit ('myenv': conda)",
   "metadata": {
    "interpreter": {
     "hash": "a507cdf376b69cecd2c89e7a1051eae61b266665cfe46f78fefb4235d6785f29"
    }
   }
  }
 },
 "nbformat": 4,
 "nbformat_minor": 2,
 "cells": [
  {
   "cell_type": "code",
   "execution_count": 3,
   "metadata": {},
   "outputs": [
    {
     "output_type": "execute_result",
     "data": {
      "text/plain": [
       "   Unnamed: 0  mileage_per_year  model_year      price sold\n",
       "0           0             21801        2000   30941.02  yes\n",
       "1           1              7843        1998   40557.96  yes\n",
       "2           2              7109        2006   89627.50   no\n",
       "3           3             26823        2015   95276.14   no\n",
       "4           4              7935        2014  117384.68  yes"
      ],
      "text/html": "<div>\n<style scoped>\n    .dataframe tbody tr th:only-of-type {\n        vertical-align: middle;\n    }\n\n    .dataframe tbody tr th {\n        vertical-align: top;\n    }\n\n    .dataframe thead th {\n        text-align: right;\n    }\n</style>\n<table border=\"1\" class=\"dataframe\">\n  <thead>\n    <tr style=\"text-align: right;\">\n      <th></th>\n      <th>Unnamed: 0</th>\n      <th>mileage_per_year</th>\n      <th>model_year</th>\n      <th>price</th>\n      <th>sold</th>\n    </tr>\n  </thead>\n  <tbody>\n    <tr>\n      <th>0</th>\n      <td>0</td>\n      <td>21801</td>\n      <td>2000</td>\n      <td>30941.02</td>\n      <td>yes</td>\n    </tr>\n    <tr>\n      <th>1</th>\n      <td>1</td>\n      <td>7843</td>\n      <td>1998</td>\n      <td>40557.96</td>\n      <td>yes</td>\n    </tr>\n    <tr>\n      <th>2</th>\n      <td>2</td>\n      <td>7109</td>\n      <td>2006</td>\n      <td>89627.50</td>\n      <td>no</td>\n    </tr>\n    <tr>\n      <th>3</th>\n      <td>3</td>\n      <td>26823</td>\n      <td>2015</td>\n      <td>95276.14</td>\n      <td>no</td>\n    </tr>\n    <tr>\n      <th>4</th>\n      <td>4</td>\n      <td>7935</td>\n      <td>2014</td>\n      <td>117384.68</td>\n      <td>yes</td>\n    </tr>\n  </tbody>\n</table>\n</div>"
     },
     "metadata": {},
     "execution_count": 3
    }
   ],
   "source": [
    "import pandas as pd\n",
    "import numpy as np\n",
    "uri = \"https://gist.githubusercontent.com/guilhermesilveira/4d1d4a16ccbf6ea4e0a64a38a24ec884/raw/afd05cb0c796d18f3f5a6537053ded308ba94bf7/car-prices.csv\"\n",
    "dados = pd.read_csv(uri)\n",
    "dados.head()"
   ]
  },
  {
   "cell_type": "code",
   "execution_count": 4,
   "metadata": {},
   "outputs": [
    {
     "output_type": "execute_result",
     "data": {
      "text/plain": [
       "   Unnamed: 0  milhas_por_ano  ano_do_modelo      preco vendido\n",
       "0           0           21801           2000   30941.02     yes\n",
       "1           1            7843           1998   40557.96     yes\n",
       "2           2            7109           2006   89627.50      no\n",
       "3           3           26823           2015   95276.14      no\n",
       "4           4            7935           2014  117384.68     yes"
      ],
      "text/html": "<div>\n<style scoped>\n    .dataframe tbody tr th:only-of-type {\n        vertical-align: middle;\n    }\n\n    .dataframe tbody tr th {\n        vertical-align: top;\n    }\n\n    .dataframe thead th {\n        text-align: right;\n    }\n</style>\n<table border=\"1\" class=\"dataframe\">\n  <thead>\n    <tr style=\"text-align: right;\">\n      <th></th>\n      <th>Unnamed: 0</th>\n      <th>milhas_por_ano</th>\n      <th>ano_do_modelo</th>\n      <th>preco</th>\n      <th>vendido</th>\n    </tr>\n  </thead>\n  <tbody>\n    <tr>\n      <th>0</th>\n      <td>0</td>\n      <td>21801</td>\n      <td>2000</td>\n      <td>30941.02</td>\n      <td>yes</td>\n    </tr>\n    <tr>\n      <th>1</th>\n      <td>1</td>\n      <td>7843</td>\n      <td>1998</td>\n      <td>40557.96</td>\n      <td>yes</td>\n    </tr>\n    <tr>\n      <th>2</th>\n      <td>2</td>\n      <td>7109</td>\n      <td>2006</td>\n      <td>89627.50</td>\n      <td>no</td>\n    </tr>\n    <tr>\n      <th>3</th>\n      <td>3</td>\n      <td>26823</td>\n      <td>2015</td>\n      <td>95276.14</td>\n      <td>no</td>\n    </tr>\n    <tr>\n      <th>4</th>\n      <td>4</td>\n      <td>7935</td>\n      <td>2014</td>\n      <td>117384.68</td>\n      <td>yes</td>\n    </tr>\n  </tbody>\n</table>\n</div>"
     },
     "metadata": {},
     "execution_count": 4
    }
   ],
   "source": [
    "\n",
    "a_renomear = {\n",
    "    'mileage_per_year' : 'milhas_por_ano',\n",
    "    'model_year' : 'ano_do_modelo',\n",
    "    'price' : 'preco',\n",
    "    'sold' : 'vendido'\n",
    "}\n",
    "dados = dados.rename(columns=a_renomear)\n",
    "dados.head()"
   ]
  },
  {
   "cell_type": "code",
   "execution_count": 5,
   "metadata": {},
   "outputs": [
    {
     "output_type": "execute_result",
     "data": {
      "text/plain": [
       "   Unnamed: 0  milhas_por_ano  ano_do_modelo      preco  vendido\n",
       "0           0           21801           2000   30941.02        1\n",
       "1           1            7843           1998   40557.96        1\n",
       "2           2            7109           2006   89627.50        0\n",
       "3           3           26823           2015   95276.14        0\n",
       "4           4            7935           2014  117384.68        1"
      ],
      "text/html": "<div>\n<style scoped>\n    .dataframe tbody tr th:only-of-type {\n        vertical-align: middle;\n    }\n\n    .dataframe tbody tr th {\n        vertical-align: top;\n    }\n\n    .dataframe thead th {\n        text-align: right;\n    }\n</style>\n<table border=\"1\" class=\"dataframe\">\n  <thead>\n    <tr style=\"text-align: right;\">\n      <th></th>\n      <th>Unnamed: 0</th>\n      <th>milhas_por_ano</th>\n      <th>ano_do_modelo</th>\n      <th>preco</th>\n      <th>vendido</th>\n    </tr>\n  </thead>\n  <tbody>\n    <tr>\n      <th>0</th>\n      <td>0</td>\n      <td>21801</td>\n      <td>2000</td>\n      <td>30941.02</td>\n      <td>1</td>\n    </tr>\n    <tr>\n      <th>1</th>\n      <td>1</td>\n      <td>7843</td>\n      <td>1998</td>\n      <td>40557.96</td>\n      <td>1</td>\n    </tr>\n    <tr>\n      <th>2</th>\n      <td>2</td>\n      <td>7109</td>\n      <td>2006</td>\n      <td>89627.50</td>\n      <td>0</td>\n    </tr>\n    <tr>\n      <th>3</th>\n      <td>3</td>\n      <td>26823</td>\n      <td>2015</td>\n      <td>95276.14</td>\n      <td>0</td>\n    </tr>\n    <tr>\n      <th>4</th>\n      <td>4</td>\n      <td>7935</td>\n      <td>2014</td>\n      <td>117384.68</td>\n      <td>1</td>\n    </tr>\n  </tbody>\n</table>\n</div>"
     },
     "metadata": {},
     "execution_count": 5
    }
   ],
   "source": [
    "a_trocar = {\n",
    "    'no' : 0,\n",
    "    'yes' : 1\n",
    "}\n",
    "dados.vendido = dados.vendido.map(a_trocar)\n",
    "dados.head()"
   ]
  },
  {
   "cell_type": "code",
   "execution_count": 6,
   "metadata": {},
   "outputs": [
    {
     "output_type": "execute_result",
     "data": {
      "text/plain": [
       "   Unnamed: 0  milhas_por_ano  ano_do_modelo      preco  vendido  \\\n",
       "0           0           21801           2000   30941.02        1   \n",
       "1           1            7843           1998   40557.96        1   \n",
       "2           2            7109           2006   89627.50        0   \n",
       "3           3           26823           2015   95276.14        0   \n",
       "4           4            7935           2014  117384.68        1   \n",
       "\n",
       "   idade_do_modelo  \n",
       "0               21  \n",
       "1               23  \n",
       "2               15  \n",
       "3                6  \n",
       "4                7  "
      ],
      "text/html": "<div>\n<style scoped>\n    .dataframe tbody tr th:only-of-type {\n        vertical-align: middle;\n    }\n\n    .dataframe tbody tr th {\n        vertical-align: top;\n    }\n\n    .dataframe thead th {\n        text-align: right;\n    }\n</style>\n<table border=\"1\" class=\"dataframe\">\n  <thead>\n    <tr style=\"text-align: right;\">\n      <th></th>\n      <th>Unnamed: 0</th>\n      <th>milhas_por_ano</th>\n      <th>ano_do_modelo</th>\n      <th>preco</th>\n      <th>vendido</th>\n      <th>idade_do_modelo</th>\n    </tr>\n  </thead>\n  <tbody>\n    <tr>\n      <th>0</th>\n      <td>0</td>\n      <td>21801</td>\n      <td>2000</td>\n      <td>30941.02</td>\n      <td>1</td>\n      <td>21</td>\n    </tr>\n    <tr>\n      <th>1</th>\n      <td>1</td>\n      <td>7843</td>\n      <td>1998</td>\n      <td>40557.96</td>\n      <td>1</td>\n      <td>23</td>\n    </tr>\n    <tr>\n      <th>2</th>\n      <td>2</td>\n      <td>7109</td>\n      <td>2006</td>\n      <td>89627.50</td>\n      <td>0</td>\n      <td>15</td>\n    </tr>\n    <tr>\n      <th>3</th>\n      <td>3</td>\n      <td>26823</td>\n      <td>2015</td>\n      <td>95276.14</td>\n      <td>0</td>\n      <td>6</td>\n    </tr>\n    <tr>\n      <th>4</th>\n      <td>4</td>\n      <td>7935</td>\n      <td>2014</td>\n      <td>117384.68</td>\n      <td>1</td>\n      <td>7</td>\n    </tr>\n  </tbody>\n</table>\n</div>"
     },
     "metadata": {},
     "execution_count": 6
    }
   ],
   "source": [
    "\n",
    "from datetime import datetime\n",
    "\n",
    "ano_atual = datetime.today().year\n",
    "dados['idade_do_modelo'] = ano_atual - dados.ano_do_modelo\n",
    "dados.head()"
   ]
  },
  {
   "cell_type": "code",
   "execution_count": 7,
   "metadata": {},
   "outputs": [
    {
     "output_type": "execute_result",
     "data": {
      "text/plain": [
       "   Unnamed: 0  milhas_por_ano  ano_do_modelo      preco  vendido  \\\n",
       "0           0           21801           2000   30941.02        1   \n",
       "1           1            7843           1998   40557.96        1   \n",
       "2           2            7109           2006   89627.50        0   \n",
       "3           3           26823           2015   95276.14        0   \n",
       "4           4            7935           2014  117384.68        1   \n",
       "\n",
       "   idade_do_modelo   km_por_ano  \n",
       "0               21  35085.22134  \n",
       "1               23  12622.05362  \n",
       "2               15  11440.79806  \n",
       "3                6  43167.32682  \n",
       "4                7  12770.11290  "
      ],
      "text/html": "<div>\n<style scoped>\n    .dataframe tbody tr th:only-of-type {\n        vertical-align: middle;\n    }\n\n    .dataframe tbody tr th {\n        vertical-align: top;\n    }\n\n    .dataframe thead th {\n        text-align: right;\n    }\n</style>\n<table border=\"1\" class=\"dataframe\">\n  <thead>\n    <tr style=\"text-align: right;\">\n      <th></th>\n      <th>Unnamed: 0</th>\n      <th>milhas_por_ano</th>\n      <th>ano_do_modelo</th>\n      <th>preco</th>\n      <th>vendido</th>\n      <th>idade_do_modelo</th>\n      <th>km_por_ano</th>\n    </tr>\n  </thead>\n  <tbody>\n    <tr>\n      <th>0</th>\n      <td>0</td>\n      <td>21801</td>\n      <td>2000</td>\n      <td>30941.02</td>\n      <td>1</td>\n      <td>21</td>\n      <td>35085.22134</td>\n    </tr>\n    <tr>\n      <th>1</th>\n      <td>1</td>\n      <td>7843</td>\n      <td>1998</td>\n      <td>40557.96</td>\n      <td>1</td>\n      <td>23</td>\n      <td>12622.05362</td>\n    </tr>\n    <tr>\n      <th>2</th>\n      <td>2</td>\n      <td>7109</td>\n      <td>2006</td>\n      <td>89627.50</td>\n      <td>0</td>\n      <td>15</td>\n      <td>11440.79806</td>\n    </tr>\n    <tr>\n      <th>3</th>\n      <td>3</td>\n      <td>26823</td>\n      <td>2015</td>\n      <td>95276.14</td>\n      <td>0</td>\n      <td>6</td>\n      <td>43167.32682</td>\n    </tr>\n    <tr>\n      <th>4</th>\n      <td>4</td>\n      <td>7935</td>\n      <td>2014</td>\n      <td>117384.68</td>\n      <td>1</td>\n      <td>7</td>\n      <td>12770.11290</td>\n    </tr>\n  </tbody>\n</table>\n</div>"
     },
     "metadata": {},
     "execution_count": 7
    }
   ],
   "source": [
    "dados['km_por_ano'] = dados.milhas_por_ano * 1.60934\n",
    "dados.head()"
   ]
  },
  {
   "cell_type": "code",
   "execution_count": 8,
   "metadata": {},
   "outputs": [
    {
     "output_type": "execute_result",
     "data": {
      "text/plain": [
       "       preco  vendido  idade_do_modelo   km_por_ano\n",
       "0   30941.02        1               21  35085.22134\n",
       "1   40557.96        1               23  12622.05362\n",
       "2   89627.50        0               15  11440.79806\n",
       "3   95276.14        0                6  43167.32682\n",
       "4  117384.68        1                7  12770.11290"
      ],
      "text/html": "<div>\n<style scoped>\n    .dataframe tbody tr th:only-of-type {\n        vertical-align: middle;\n    }\n\n    .dataframe tbody tr th {\n        vertical-align: top;\n    }\n\n    .dataframe thead th {\n        text-align: right;\n    }\n</style>\n<table border=\"1\" class=\"dataframe\">\n  <thead>\n    <tr style=\"text-align: right;\">\n      <th></th>\n      <th>preco</th>\n      <th>vendido</th>\n      <th>idade_do_modelo</th>\n      <th>km_por_ano</th>\n    </tr>\n  </thead>\n  <tbody>\n    <tr>\n      <th>0</th>\n      <td>30941.02</td>\n      <td>1</td>\n      <td>21</td>\n      <td>35085.22134</td>\n    </tr>\n    <tr>\n      <th>1</th>\n      <td>40557.96</td>\n      <td>1</td>\n      <td>23</td>\n      <td>12622.05362</td>\n    </tr>\n    <tr>\n      <th>2</th>\n      <td>89627.50</td>\n      <td>0</td>\n      <td>15</td>\n      <td>11440.79806</td>\n    </tr>\n    <tr>\n      <th>3</th>\n      <td>95276.14</td>\n      <td>0</td>\n      <td>6</td>\n      <td>43167.32682</td>\n    </tr>\n    <tr>\n      <th>4</th>\n      <td>117384.68</td>\n      <td>1</td>\n      <td>7</td>\n      <td>12770.11290</td>\n    </tr>\n  </tbody>\n</table>\n</div>"
     },
     "metadata": {},
     "execution_count": 8
    }
   ],
   "source": [
    "dados = dados.drop(columns = [\"Unnamed: 0\", \"milhas_por_ano\",\"ano_do_modelo\"], axis=1)\n",
    "dados.head()"
   ]
  },
  {
   "cell_type": "code",
   "execution_count": 9,
   "metadata": {},
   "outputs": [
    {
     "output_type": "stream",
     "name": "stdout",
     "text": [
      "Treinaremos com 7500 elementos e testaremos com 2500 elementos\n",
      "A acurácia foi 58.00%\n"
     ]
    }
   ],
   "source": [
    "from sklearn.model_selection import train_test_split\n",
    "from sklearn.svm import LinearSVC\n",
    "from sklearn.metrics import accuracy_score\n",
    "\n",
    "x = dados[[\"preco\", \"idade_do_modelo\",\"km_por_ano\"]]\n",
    "y = dados[\"vendido\"]\n",
    "\n",
    "SEED = 5\n",
    "np.random.seed(SEED)\n",
    "treino_x, teste_x, treino_y, teste_y = train_test_split(x, y, test_size = 0.25,\n",
    "                                                         stratify = y)\n",
    "print(\"Treinaremos com %d elementos e testaremos com %d elementos\" % (len(treino_x), len(teste_x)))\n",
    "\n",
    "modelo = LinearSVC()\n",
    "modelo.fit(treino_x, treino_y)\n",
    "previsoes = modelo.predict(teste_x)\n",
    "\n",
    "acuracia = accuracy_score(teste_y, previsoes) * 100\n",
    "print(\"A acurácia foi %.2f%%\" % acuracia)"
   ]
  },
  {
   "cell_type": "code",
   "execution_count": 10,
   "metadata": {},
   "outputs": [
    {
     "output_type": "stream",
     "name": "stdout",
     "text": [
      "A acurácia do dummy stratified foi 58.00%\n"
     ]
    }
   ],
   "source": [
    "from sklearn.dummy import DummyClassifier\n",
    "\n",
    "dummy_stratified = DummyClassifier()\n",
    "dummy_stratified.fit(treino_x, treino_y)\n",
    "acuracia = dummy_stratified.score(teste_x, teste_y) * 100\n",
    "\n",
    "print(\"A acurácia do dummy stratified foi %.2f%%\" % acuracia)"
   ]
  },
  {
   "cell_type": "code",
   "execution_count": 11,
   "metadata": {},
   "outputs": [
    {
     "output_type": "stream",
     "name": "stdout",
     "text": [
      "A acurácia do dummy mostfrequent foi 58.00%\n"
     ]
    }
   ],
   "source": [
    "from sklearn.dummy import DummyClassifier\n",
    "\n",
    "dummy_mostfrequent = DummyClassifier()\n",
    "dummy_mostfrequent.fit(treino_x, treino_y)\n",
    "acuracia = dummy_mostfrequent.score(teste_x, teste_y) * 100\n",
    "\n",
    "print(\"A acurácia do dummy mostfrequent foi %.2f%%\" % acuracia)"
   ]
  },
  {
   "cell_type": "code",
   "execution_count": 12,
   "metadata": {},
   "outputs": [
    {
     "output_type": "stream",
     "name": "stdout",
     "text": [
      "Treinaremos com 7500 elementos e testaremos com 2500 elementos\n",
      "A acurácia foi 77.48%\n"
     ]
    }
   ],
   "source": [
    "from sklearn.preprocessing import StandardScaler\n",
    "from sklearn.model_selection import train_test_split\n",
    "from sklearn.svm import SVC\n",
    "from sklearn.metrics import accuracy_score\n",
    "\n",
    "SEED = 5\n",
    "np.random.seed(SEED)\n",
    "raw_treino_x, raw_teste_x, treino_y, teste_y = train_test_split(x, y, test_size = 0.25,\n",
    "                                                         stratify = y)\n",
    "print(\"Treinaremos com %d elementos e testaremos com %d elementos\" % (len(treino_x), len(teste_x)))\n",
    "\n",
    "scaler = StandardScaler()\n",
    "scaler.fit(raw_treino_x)\n",
    "treino_x = scaler.transform(raw_treino_x)\n",
    "teste_x = scaler.transform(raw_teste_x)\n",
    "\n",
    "modelo = SVC()\n",
    "modelo.fit(treino_x, treino_y)\n",
    "previsoes = modelo.predict(teste_x)\n",
    "\n",
    "acuracia = accuracy_score(teste_y, previsoes) * 100\n",
    "print(\"A acurácia foi %.2f%%\" % acuracia)"
   ]
  },
  {
   "cell_type": "code",
   "execution_count": 13,
   "metadata": {},
   "outputs": [
    {
     "output_type": "stream",
     "name": "stdout",
     "text": [
      "Treinaremos com 7500 elementos e testaremos com 2500 elementos\n",
      "A acurácia foi 79.28%\n"
     ]
    }
   ],
   "source": [
    "from sklearn.preprocessing import StandardScaler\n",
    "from sklearn.model_selection import train_test_split\n",
    "from sklearn.tree import DecisionTreeClassifier\n",
    "from sklearn.metrics import accuracy_score\n",
    "\n",
    "SEED = 5\n",
    "np.random.seed(SEED)\n",
    "raw_treino_x, raw_teste_x, treino_y, teste_y = train_test_split(x, y, test_size = 0.25,\n",
    "                                                         stratify = y)\n",
    "print(\"Treinaremos com %d elementos e testaremos com %d elementos\" % (len(treino_x), len(teste_x)))\n",
    "\n",
    "modelo = DecisionTreeClassifier(max_depth=3)\n",
    "modelo.fit(raw_treino_x, treino_y)\n",
    "previsoes = modelo.predict(raw_teste_x)\n",
    "\n",
    "acuracia = accuracy_score(teste_y, previsoes) * 100\n",
    "print(\"A acurácia foi %.2f%%\" % acuracia)"
   ]
  },
  {
   "cell_type": "code",
   "execution_count": 18,
   "metadata": {},
   "outputs": [],
   "source": [
    "def imprime_resultado(results):\n",
    "    mean=results['test_score'].mean()\n",
    "    print('a media da acuracia é %.2f' % (mean*100))\n",
    "    desvio_padrao=results['test_score'].std()\n",
    "    print(f'intervalo de confiança = [{round(mean-2*desvio_padrao,4)*100} , {round(mean+2*desvio_padrao,4)*100}]')"
   ]
  },
  {
   "cell_type": "code",
   "execution_count": 20,
   "metadata": {},
   "outputs": [
    {
     "output_type": "stream",
     "name": "stdout",
     "text": [
      "a media da acuracia é 75.78\nintervalo de confiança = [75.33 , 76.23]\n"
     ]
    }
   ],
   "source": [
    "from sklearn.model_selection import cross_validate,KFold\n",
    "cv=KFold(n_splits=5)\n",
    "SEED = 1234\n",
    "np.random.seed(SEED)\n",
    "modelo=DecisionTreeClassifier(max_depth=2)\n",
    "results=cross_validate(modelo,x,y,cv=cv,return_train_score=False)\n",
    "imprime_resultado(results)\n",
    "\n",
    "\n",
    "# cross validadate é um kfold"
   ]
  },
  {
   "cell_type": "code",
   "execution_count": 22,
   "metadata": {},
   "outputs": [
    {
     "output_type": "stream",
     "name": "stdout",
     "text": [
      "a media da acuracia é 75.78\nintervalo de confiança = [74.63 , 76.92999999999999]\n"
     ]
    }
   ],
   "source": [
    "SEED = 1234\n",
    "cv=KFold(n_splits=5,shuffle=True)\n",
    "np.random.seed(SEED)\n",
    "modelo=DecisionTreeClassifier(max_depth=2)\n",
    "results=cross_validate(modelo,x,y,cv=cv,return_train_score=False)\n",
    "imprime_resultado(results)\n",
    "\n",
    "\n",
    "# cross validadate é um kfold"
   ]
  },
  {
   "cell_type": "code",
   "execution_count": 27,
   "metadata": {},
   "outputs": [
    {
     "output_type": "execute_result",
     "data": {
      "text/plain": [
       "         preco  vendido  idade_do_modelo   km_por_ano\n",
       "4999  74023.29        0               15  24812.80412\n",
       "5322  84843.49        0               16  23095.63834\n",
       "5319  83100.27        0               22  36240.72746\n",
       "5316  87932.13        0               19  32249.56426\n",
       "5315  77937.01        0               18  28414.50704"
      ],
      "text/html": "<div>\n<style scoped>\n    .dataframe tbody tr th:only-of-type {\n        vertical-align: middle;\n    }\n\n    .dataframe tbody tr th {\n        vertical-align: top;\n    }\n\n    .dataframe thead th {\n        text-align: right;\n    }\n</style>\n<table border=\"1\" class=\"dataframe\">\n  <thead>\n    <tr style=\"text-align: right;\">\n      <th></th>\n      <th>preco</th>\n      <th>vendido</th>\n      <th>idade_do_modelo</th>\n      <th>km_por_ano</th>\n    </tr>\n  </thead>\n  <tbody>\n    <tr>\n      <th>4999</th>\n      <td>74023.29</td>\n      <td>0</td>\n      <td>15</td>\n      <td>24812.80412</td>\n    </tr>\n    <tr>\n      <th>5322</th>\n      <td>84843.49</td>\n      <td>0</td>\n      <td>16</td>\n      <td>23095.63834</td>\n    </tr>\n    <tr>\n      <th>5319</th>\n      <td>83100.27</td>\n      <td>0</td>\n      <td>22</td>\n      <td>36240.72746</td>\n    </tr>\n    <tr>\n      <th>5316</th>\n      <td>87932.13</td>\n      <td>0</td>\n      <td>19</td>\n      <td>32249.56426</td>\n    </tr>\n    <tr>\n      <th>5315</th>\n      <td>77937.01</td>\n      <td>0</td>\n      <td>18</td>\n      <td>28414.50704</td>\n    </tr>\n  </tbody>\n</table>\n</div>"
     },
     "metadata": {},
     "execution_count": 27
    }
   ],
   "source": [
    "dados_azar=dados.sort_values(by='vendido',ascending=True)\n",
    "x_azar=dados_azar[[\"preco\", \"idade_do_modelo\",\"km_por_ano\"]]\n",
    "y_azar=dados_azar['vendido']\n",
    "dados_azar.head()"
   ]
  },
  {
   "cell_type": "code",
   "execution_count": 28,
   "metadata": {},
   "outputs": [
    {
     "output_type": "stream",
     "name": "stdout",
     "text": [
      "a media da acuracia é 59.70\nintervalo de confiança = [32.22 , 87.18]\n"
     ]
    }
   ],
   "source": [
    "cv=KFold(n_splits=5)\n",
    "SEED = 1234\n",
    "np.random.seed(SEED)\n",
    "modelo=DecisionTreeClassifier(max_depth=2)\n",
    "results=cross_validate(modelo,x_azar,y_azar,cv=cv,return_train_score=False)\n",
    "imprime_resultado(results)"
   ]
  },
  {
   "cell_type": "code",
   "execution_count": 29,
   "metadata": {},
   "outputs": [
    {
     "output_type": "stream",
     "name": "stdout",
     "text": [
      "a media da acuracia é 75.78\nintervalo de confiança = [73.57000000000001 , 77.99000000000001]\n"
     ]
    }
   ],
   "source": [
    "SEED = 1234\n",
    "cv=KFold(n_splits=5,shuffle=True)\n",
    "np.random.seed(SEED)\n",
    "modelo=DecisionTreeClassifier(max_depth=2)\n",
    "results=cross_validate(modelo,x_azar,y_azar,cv=cv,return_train_score=False)\n",
    "imprime_resultado(results)\n",
    "\n",
    "\n",
    "# cross validadate é um kfold"
   ]
  },
  {
   "cell_type": "code",
   "execution_count": 30,
   "metadata": {},
   "outputs": [
    {
     "output_type": "stream",
     "name": "stdout",
     "text": [
      "a media da acuracia é 75.79\nintervalo de confiança = [74.0 , 77.58]\n"
     ]
    }
   ],
   "source": [
    "from sklearn.model_selection import StratifiedKFold\n",
    "cv=StratifiedKFold(n_splits=5,shuffle=True)\n",
    "SEED = 1234\n",
    "np.random.seed(SEED)\n",
    "modelo=DecisionTreeClassifier(max_depth=2)\n",
    "results=cross_validate(modelo,x,y,cv=cv,return_train_score=False)\n",
    "imprime_resultado(results)"
   ]
  },
  {
   "cell_type": "code",
   "execution_count": 39,
   "metadata": {},
   "outputs": [],
   "source": [
    "np.random.seed(4)\n",
    "dados['modelo']=dados.idade_do_modelo+np.random.randint(-2,2,size=10000)\n",
    "dados.modelo=abs(dados.modelo)"
   ]
  },
  {
   "cell_type": "code",
   "execution_count": 42,
   "metadata": {},
   "outputs": [
    {
     "output_type": "stream",
     "name": "stdout",
     "text": [
      "a media da acuracia é 75.78\nintervalo de confiança = [74.3 , 77.25]\n"
     ]
    }
   ],
   "source": [
    "from sklearn.model_selection import GroupKFold\n",
    "cv=GroupKFold(n_splits=5)\n",
    "SEED = 1234\n",
    "np.random.seed(SEED)\n",
    "modelo=DecisionTreeClassifier(max_depth=2)\n",
    "results=cross_validate(modelo,x,y,cv=cv,return_train_score=False,groups=dados.modelo)\n",
    "imprime_resultado(results)"
   ]
  },
  {
   "cell_type": "code",
   "execution_count": 45,
   "metadata": {},
   "outputs": [
    {
     "output_type": "stream",
     "name": "stdout",
     "text": [
      "A acurácia foi 77.48%\n"
     ]
    }
   ],
   "source": [
    "\n",
    "np.random.seed(123)\n",
    "scaler=StandardScaler()\n",
    "\n",
    "scaler.fit(treino_x)\n",
    "treino_x_escalado=scaler.transform(treino_x)\n",
    "teste_x_escalado=scaler.transform(teste_x)\n",
    "\n",
    "modelo=SVC()\n",
    "modelo.fit(treino_x_escalado,treino_y)\n",
    "previsoes=modelo.predict(teste_x_escalado)\n",
    "acuracia = accuracy_score(teste_y, previsoes) * 100\n",
    "print(\"A acurácia foi %.2f%%\" % acuracia)"
   ]
  },
  {
   "cell_type": "code",
   "execution_count": 49,
   "metadata": {},
   "outputs": [
    {
     "output_type": "stream",
     "name": "stdout",
     "text": [
      "a media da acuracia é 77.21\nintervalo de confiança = [75.82 , 78.60000000000001]\n"
     ]
    }
   ],
   "source": [
    "\n",
    "np.random.seed(301)\n",
    "\n",
    "\n",
    "modelo=SVC()\n",
    "cv=GroupKFold(n_splits=10)\n",
    "\n",
    "results=cross_validate(modelo,x_azar,y_azar,cv=cv,return_train_score=False,groups=dados.modelo)\n",
    "imprime_resultado(results)"
   ]
  },
  {
   "cell_type": "code",
   "execution_count": 48,
   "metadata": {},
   "outputs": [
    {
     "output_type": "stream",
     "name": "stdout",
     "text": [
      "a media da acuracia é 76.57\nintervalo de confiança = [75.42999999999999 , 77.71000000000001]\n"
     ]
    }
   ],
   "source": [
    "np.random.seed(123)\n",
    "scaler=StandardScaler()\n",
    "\n",
    "scaler.fit(x_azar)\n",
    "x_azar_escalado=scaler.transform(x_azar)\n",
    "\n",
    "modelo=SVC()\n",
    "cv=GroupKFold(n_splits=5)\n",
    "\n",
    "results=cross_validate(modelo,x_azar_escalado,y_azar,cv=cv,return_train_score=False,groups=dados.modelo)\n",
    "imprime_resultado(results)"
   ]
  },
  {
   "cell_type": "code",
   "execution_count": 54,
   "metadata": {},
   "outputs": [
    {
     "output_type": "stream",
     "name": "stdout",
     "text": [
      "a media da acuracia é 76.56\nintervalo de confiança = [75.4 , 77.71000000000001]\n"
     ]
    }
   ],
   "source": [
    "from sklearn.pipeline import Pipeline\n",
    "np.random.seed(123)\n",
    "\n",
    "\n",
    "scaler=StandardScaler()\n",
    "modelo=SVC()\n",
    "pipeline=Pipeline([('transformacao',scaler),('estimador',modelo)])\n",
    "cv=GroupKFold(n_splits=5)\n",
    "\n",
    "results=cross_validate(pipeline,x_azar,y_azar,cv=cv,return_train_score=False,groups=dados.modelo)\n",
    "imprime_resultado(results)"
   ]
  },
  {
   "cell_type": "code",
   "execution_count": null,
   "metadata": {},
   "outputs": [],
   "source": []
  }
 ]
}